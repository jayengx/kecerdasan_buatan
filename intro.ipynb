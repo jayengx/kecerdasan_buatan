{
 "cells": [
  {
   "cell_type": "code",
   "execution_count": null,
   "metadata": {},
   "outputs": [
    {
     "ename": "",
     "evalue": "",
     "output_type": "error",
     "traceback": [
      "\u001b[1;31mRunning cells with 'Python 3.12.1' requires the ipykernel package.\n",
      "\u001b[1;31mRun the following command to install 'ipykernel' into the Python environment. \n",
      "\u001b[1;31mCommand: '/opt/homebrew/bin/python3.12 -m pip install ipykernel -U --user --force-reinstall'"
     ]
    }
   ],
   "source": [
    "trx = {\n",
    "    \"discount\": 20,\n",
    "    \"percentage\": True,\n",
    "    \"tax\": 11,\n",
    "    \"items\": [\n",
    "        {\n",
    "            \"product\": \"Aqua 500ml\",\n",
    "            \"price\": 5500,\n",
    "            \"qty\": 3\n",
    "        },\n",
    "        \n",
    "        {\n",
    "            \"product\": \"Indomie goreng\",\n",
    "            \"price\": 3100,\n",
    "            \"qty\": 10\n",
    "        },\n",
    "        {\n",
    "            \"product\": \"Kecap ABC 150ml\",\n",
    "            \"price\": 10500,\n",
    "            \"qty\": 2\n",
    "        }\n",
    "    ]\n",
    "}\n",
    "trx"
   ]
  },
  {
   "cell_type": "markdown",
   "metadata": {},
   "source": []
  },
  {
   "cell_type": "code",
   "execution_count": null,
   "metadata": {},
   "outputs": [],
   "source": []
  }
 ],
 "metadata": {
  "kernelspec": {
   "display_name": "Python 3",
   "language": "python",
   "name": "python3"
  },
  "language_info": {
   "name": "python",
   "version": "3.12.1"
  }
 },
 "nbformat": 4,
 "nbformat_minor": 2
}
