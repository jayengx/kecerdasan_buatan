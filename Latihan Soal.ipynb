{
 "cells": [
  {
   "cell_type": "markdown",
   "id": "6780e9fd-07f1-4b1e-ba45-e24b90bad7b5",
   "metadata": {},
   "source": [
    "### Soal Latihan\n"
   ]
  },
  {
   "cell_type": "code",
   "execution_count": 4,
   "id": "11ce616d-f96c-483b-a7c8-ed2de4061679",
   "metadata": {},
   "outputs": [],
   "source": [
    "level = {\n",
    "    'intern': {\n",
    "        'bonus': 5\n",
    "    },\n",
    "    'staff': {\n",
    "        'bonus': 10\n",
    "    },\n",
    "    'manager': {\n",
    "        'bonus': 15\n",
    "    },\n",
    "    'director': {\n",
    "        'bonus': 20\n",
    "    }\n",
    "}\n",
    "\n",
    "employee_data = [\n",
    "    {\n",
    "        'name': 'Rudi',\n",
    "        'level': 'staff',\n",
    "        'salary': 7500000\n",
    "    },\n",
    "    {\n",
    "        'name': 'Rita',\n",
    "        'level': 'intern',\n",
    "        'salary': 1000000\n",
    "    },\n",
    "    {\n",
    "        'name': 'Asep',\n",
    "        'level': 'manager',\n",
    "        'salary': 12000000\n",
    "    },\n",
    "    {\n",
    "        'name': 'Ricky',\n",
    "        'level': 'manager',\n",
    "        'salary': 13500000\n",
    "    },\n",
    "    {\n",
    "        'name': 'Lisa',\n",
    "        'level': 'staff',\n",
    "        'salary': 8500000\n",
    "    },\n",
    "    {\n",
    "        'name': 'Imam',\n",
    "        'level': 'intern',\n",
    "        'salary': 1050000\n",
    "    },\n",
    "    {\n",
    "        'name': 'Haryo',\n",
    "        'level': 'director',\n",
    "        'salary': 35000000\n",
    "    }\n",
    "]\n"
   ]
  },
  {
   "cell_type": "code",
   "execution_count": 5,
   "id": "9a2ae003-7cd3-4359-9c2c-598d02767afa",
   "metadata": {},
   "outputs": [],
   "source": [
    "# expected result\n",
    "# based on level\n",
    "# bonus = salary * bonus/100\n",
    "\n",
    "# employee_bonus = { \n",
    "#     'Rudi': 750000,\n",
    "#     'Rita': 50000\n",
    "#     ...\n",
    "# }"
   ]
  },
  {
   "cell_type": "code",
   "execution_count": null,
   "id": "c1b4d964-f72b-40ff-b8f5-fb1ecc199233",
   "metadata": {},
   "outputs": [],
   "source": []
  },
  {
   "cell_type": "code",
   "execution_count": null,
   "id": "eec9552b-7be6-47e6-ad24-d27e9d3e9f59",
   "metadata": {},
   "outputs": [],
   "source": []
  },
  {
   "cell_type": "code",
   "execution_count": null,
   "id": "87c71d25-5d8b-4146-90c6-f87962c82401",
   "metadata": {},
   "outputs": [],
   "source": []
  },
  {
   "cell_type": "code",
   "execution_count": null,
   "id": "3a480eca-3001-4709-b538-8225966bdbb6",
   "metadata": {},
   "outputs": [],
   "source": []
  },
  {
   "cell_type": "code",
   "execution_count": null,
   "id": "8bb3ec66-7e6f-49a1-bb43-f847f002df89",
   "metadata": {},
   "outputs": [],
   "source": []
  },
  {
   "cell_type": "code",
   "execution_count": null,
   "id": "02871d99-cb7d-4476-9989-cb811c7dca90",
   "metadata": {},
   "outputs": [],
   "source": []
  },
  {
   "cell_type": "code",
   "execution_count": null,
   "id": "a96d1e53-b3ca-42aa-90e8-4a496ecd9427",
   "metadata": {},
   "outputs": [],
   "source": []
  }
 ],
 "metadata": {
  "kernelspec": {
   "display_name": "Python 3 (ipykernel)",
   "language": "python",
   "name": "python3"
  },
  "language_info": {
   "codemirror_mode": {
    "name": "ipython",
    "version": 3
   },
   "file_extension": ".py",
   "mimetype": "text/x-python",
   "name": "python",
   "nbconvert_exporter": "python",
   "pygments_lexer": "ipython3",
   "version": "3.9.13"
  }
 },
 "nbformat": 4,
 "nbformat_minor": 5
}
